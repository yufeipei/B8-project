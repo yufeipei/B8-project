{
 "cells": [
  {
   "cell_type": "code",
   "execution_count": 3,
   "metadata": {},
   "outputs": [
    {
     "name": "stdout",
     "output_type": "stream",
     "text": [
      "loaded 20 images\n"
     ]
    }
   ],
   "source": [
    "import numpy as np\n",
    "import matplotlib.pyplot as plt\n",
    "import h5py\n",
    "import itertools\n",
    "from PIL import Image\n",
    "from scipy.stats import logistic\n",
    "\n",
    "\n",
    "# Name of the hdf file that contain the data we need\n",
    "f_name = 'sxro6416-r0504.h5'\n",
    "\n",
    "# Open the hdf5 file, use the path to the images to extrate the data and place\n",
    "# it in the image data object for further manipulation and inspection.\n",
    "datafile = h5py.File(f_name, 'r')\n",
    "image_data = []\n",
    "for i in itertools.count(start=0):\n",
    "    d = datafile.get(f'Configure:0000/Run:0000/CalibCycle:{i:04d}/Princeton::FrameV2/SxrEndstation.0:Princeton.0/data')\n",
    "    if d is not None:\n",
    "        # actual image is at first index\n",
    "        image_data.append(d[0])\n",
    "    else:\n",
    "        break\n",
    "\n",
    "#print(image_data[1])\n",
    "# Tell me how many images were contained in the datafile\n",
    "print(f\"loaded {len(image_data)} images\")\n",
    "\n",
    "\n",
    "#for i in range(20):\n",
    "    #plt.imshow(image_data[i])\n",
    "    #plt.savefig('image'+str(i)+'.png',dpi=1000)\n",
    "    #image = Image.fromarray(image_data[i]).convert(\"L\")\n",
    "    #image.save(\"image\"+str(i)+\".png\")\n",
    "\n",
    "# Plot a good dataset - here index 8 (but there are others too!)\n",
    "#misc.imshow(image_data[0])\n",
    "#misc.show()\n",
    "\n",
    "#image = Image.fromarray(image_data[0]).convert(\"L\")\n",
    "#image.save(\"out.png\")\n",
    "\n",
    "# The histogram of the data will help show possible single photon hits\n",
    "plt.hist(image_data[1].flatten(), bins=100)\n",
    "plt.yscale('log')\n"
   ]
  },
  {
   "cell_type": "code",
   "execution_count": 4,
   "metadata": {},
   "outputs": [
    {
     "data": {
      "text/plain": [
       "(2048, 2048)"
      ]
     },
     "execution_count": 4,
     "metadata": {},
     "output_type": "execute_result"
    }
   ],
   "source": [
    "dat=image_data[1]\n",
    "dat.shape"
   ]
  },
  {
   "cell_type": "code",
   "execution_count": 15,
   "metadata": {},
   "outputs": [
    {
     "name": "stdout",
     "output_type": "stream",
     "text": [
      "20 42\n"
     ]
    }
   ],
   "source": [
    "#This is a test program. All codes will be run on this test data, extracted from image #1.\n",
    "test_dat=dat[242:262,1246:1288].astype(int)-50\n",
    "test_dat_2=dat[492:525,1308:1340].astype(int)-50\n",
    "test_height_2=test_dat_2.shape[0]\n",
    "test_width_2=test_dat_2.shape[1]\n",
    "test_height=test_dat.shape[0]\n",
    "test_width=test_dat.shape[1]\n",
    "print(test_height,test_width)"
   ]
  },
  {
   "cell_type": "code",
   "execution_count": 16,
   "metadata": {
    "scrolled": true
   },
   "outputs": [
    {
     "data": {
      "text/plain": [
       "<matplotlib.image.AxesImage at 0x1bb97710>"
      ]
     },
     "execution_count": 16,
     "metadata": {},
     "output_type": "execute_result"
    },
    {
     "data": {
      "image/png": "[encoded data removed]",
      "text/plain": [
       "<Figure size 432x288 with 1 Axes>"
      ]
     },
     "metadata": {
      "needs_background": "light"
     },
     "output_type": "display_data"
    }
   ],
   "source": [
    "plt.imshow(test_dat_2)\n",
    "#test_dat"
   ]
  },
  {
   "cell_type": "code",
   "execution_count": 17,
   "metadata": {},
   "outputs": [],
   "source": [
    "### Define the distribution function of single photon events.\n",
    "\n",
    "#Here, such distribution is modeled as Gaussian. Later this will be justified/replaced with more justified forms based on\n",
    "#literatures and/or physical simulations\n",
    "\n",
    "def dist_f_gaussian(x,y,x0,y0,s1,s2,A,t,cutoff=2):\n",
    "    x1=(x-x0)*np.cos(t)-(y-y0)*np.sin(t)\n",
    "    y1=(x-x0)*np.sin(t)+(y-y0)*np.cos(t)\n",
    "    #print(x1,y1,x0,y0,s1,s2,A,t,cutoff)\n",
    "    if(x1>=cutoff*s1 or y1>=cutoff*s2):\n",
    "        return 0\n",
    "    else:\n",
    "        return A/s1/s2*np.exp(-x1**2/(2*s1**2)-y1**2/(2*s2**2))\n",
    "\n",
    "#With respect to this distribution, we create a class of single photon events(SPE):\n",
    "from scipy.integrate import simps\n",
    "import math\n",
    "\n",
    "class gaussian_spe:\n",
    "    'A distribution of intensity caused by a single photon event'\n",
    "    \n",
    "    intensity_matrix=np.zeros((test_height,test_width))\n",
    "    \n",
    "    dist_fn='gaussian'\n",
    "    \n",
    "    def __init__(self, y0, x0, s1, s2, A, t=0, cutoff=2):\n",
    "        self.x0 = x0\n",
    "        self.y0 = y0\n",
    "        self.s1 = s1\n",
    "        self.s2 = s2\n",
    "        self.A = A\n",
    "        self.t = t\n",
    "        self.cutoff = cutoff\n",
    "        self.intensity_matrix=np.zeros((test_height,test_width))\n",
    "        s=max([s1,s2])+0.5\n",
    "        for i in range(test_height):\n",
    "            for j in range(test_width):\n",
    "                if(not((i<x0+cutoff*s and i>x0-cutoff*s) and (j<y0+cutoff*s and j>y0-cutoff*s))):\n",
    "                    continue\n",
    "                \"\"\"\n",
    "                #The simpson rule method\n",
    "                \n",
    "                x=np.linspace(i,i+1,sample_length)\n",
    "                y=np.linspace(j,j+1,sample_length)\n",
    "                #zz = self.dist(x.reshape(-1,1),y.reshape(1,-1))\n",
    "                zz=np.zeros((sample_length,sample_length))\n",
    "                for xi in range(sample_length):\n",
    "                    for yi in range(sample_length):\n",
    "                        zz[xi,yi]=self.dist(x[xi],y[yi])\n",
    "                dist=lambda x,y: self.dist(x,y)\n",
    "                #self.intensity_matrix[i,j]=integrate.dblquad(dist,i,i+1,lambda x:j,lambda x:j+1,epsabs=1e-4, epsrel=1e-4)[0]\n",
    "                self.intensity_matrix[i,j]=simps([simps(zz_x,x) for zz_x in zz],y) \n",
    "                \"\"\"\n",
    "                \n",
    "                #The MUCH SIMPLER erf method\n",
    "                if(math.sqrt((i+0.5-self.x0)**2+(j+0.5-self.y0)**2)>cutoff*2*s):\n",
    "                    self.intensity_matrix[i,j]=0\n",
    "                else:\n",
    "                    self.intensity_matrix[i,j]=self.A*self.s1**2*self.s2**s2*(math.erf(-self.x0+i/math.sqrt(2))-math.erf(-self.x0+i+1/math.sqrt(2)))*math.erf(-self.y0+j/math.sqrt(2))-math.erf(-self.y0+j+1/math.sqrt(2))\n",
    "                \n",
    "    \n",
    "    def dist(self,x,y):\n",
    "        return dist_f_gaussian(x,y,self.x0,self.y0,self.s1,self.s2,self.A,self.t,self.cutoff)\n",
    "    \n",
    "    def new_value(self, y0, x0, s1, s2, A, t=0, cutoff=2):\n",
    "        self.x0 = x0\n",
    "        self.y0 = y0\n",
    "        self.s1 = s1\n",
    "        self.s2 = s2\n",
    "        self.A = A\n",
    "        self.t = t\n",
    "        self.cutoff = cutoff\n",
    "        s=max([s1,s2])+1.5\n",
    "        for i in range(test_height):\n",
    "            for j in range(test_width):\n",
    "                if(not((i<x0+cutoff*s and i>x0-cutoff*s) and (j<y0+cutoff*s and j>y0-cutoff*s))):\n",
    "                    continue\n",
    "                x=np.linspace(i,i+1,sample_length)\n",
    "                y=np.linspace(j,j+1,sample_length)\n",
    "                #zz = self.dist(x.reshape(-1,1),y.reshape(1,-1))\n",
    "                zz=np.zeros((sample_length,sample_length))\n",
    "                for xi in range(sample_length):\n",
    "                    for yi in range(sample_length):\n",
    "                        zz[xi,yi]=self.dist(x[xi],y[yi])\n",
    "                dist=lambda x,y: self.dist(x,y)\n",
    "                #self.intensity_matrix[i,j]=integrate.dblquad(dist,i,i+1,lambda x:j,lambda x:j+1,epsabs=1e-4, epsrel=1e-4)[0]\n",
    "                self.intensity_matrix[i,j]=simps([simps(zz_x,x) for zz_x in zz],y) \n",
    "    \n",
    "    def copy(self):\n",
    "        return self\n",
    "                \n",
    "from scipy import integrate\n",
    "import time\n",
    "\n",
    "# The error function. It is defined as ...; the minimisation of which is the ultimate goal of this part of the code. \n",
    "def error(spe__array,dat_tag,input_dat=test_dat):\n",
    "    matrix=input_dat[(dat_tag.param()[0]):(dat_tag.param()[2]+1),(dat_tag.param()[1]):(dat_tag.param()[3]+1)]\n",
    "    #print(matrix)\n",
    "    height=matrix.shape[0]\n",
    "    width=matrix.shape[1]\n",
    "    tot_intensity_matrix=np.zeros((height,width))\n",
    "    err=0\n",
    "    for i in range(height):\n",
    "        for j in range(width):\n",
    "            for event in spe__array:\n",
    "                tot_intensity_matrix[i,j]=tot_intensity_matrix[i,j]+event.intensity_matrix[dat_tag.param()[0]+i,dat_tag.param()[1]+j]\n",
    "            err=err+(matrix[i,j]-tot_intensity_matrix[i,j])**2\n",
    "        \n",
    "    return err\n",
    "\n",
    "def error(spe__array, input_dat=test_dat):\n",
    "    matrix=input_dat\n",
    "    #print(matrix)\n",
    "    height=matrix.shape[0]\n",
    "    width=matrix.shape[1]\n",
    "    tot_intensity_matrix=np.zeros((height,width))\n",
    "    err=0\n",
    "    for i in range(height):\n",
    "        for j in range(width):\n",
    "            for event in spe__array:\n",
    "                tot_intensity_matrix[i,j]=tot_intensity_matrix[i,j]+event.intensity_matrix[i,j]\n",
    "            err=err+(matrix[i,j]-tot_intensity_matrix[i,j])**2\n",
    "        \n",
    "    return err"
   ]
  },
  {
   "cell_type": "code",
   "execution_count": 18,
   "metadata": {},
   "outputs": [
    {
     "name": "stdout",
     "output_type": "stream",
     "text": [
      "132997.62936766836\n",
      "0.014742136001586914\n"
     ]
    }
   ],
   "source": [
    "start=time.time()\n",
    "s=0.25\n",
    "sample_length=int(2.5/s**2)\n",
    "spe_array=[]\n",
    "t=gaussian_spe(3.5,14.5,s,s,200,0)\n",
    "spe_array=np.append(spe_array,t)\n",
    "print(error(spe_array))\n",
    "end=time.time()\n",
    "print(end-start)"
   ]
  },
  {
   "cell_type": "code",
   "execution_count": 159,
   "metadata": {},
   "outputs": [],
   "source": [
    "class tag:\n",
    "    'used to tag SPEs.'\n",
    "    lx=0\n",
    "    ly=0\n",
    "    rx=0\n",
    "    ry=0\n",
    "    width=0\n",
    "    height=0\n",
    "    \n",
    "    def __init__(self,lx,ly,rx,ry):\n",
    "        self.lx=lx\n",
    "        self.ly=ly\n",
    "        self.rx=rx\n",
    "        self.ry=ry\n",
    "        self.width=rx-lx\n",
    "        self.height=ry-ly\n",
    "    \n",
    "    def param(self):\n",
    "        return [self.lx,self.ly,self.rx,self.ry]\n",
    "    \n",
    "    def hw(self):\n",
    "        return [self.height,self.width]\n",
    "    \n",
    "def thresholding(dataset,threshold):\n",
    "    label_matrix=np.zeros(dataset.shape)\n",
    "    for i in range(dataset.shape[0]):\n",
    "        for j in range(dataset.shape[1]):\n",
    "            if(dataset[i,j]>=threshold):\n",
    "                label_matrix[i,j]=1\n",
    "    return label_matrix\n",
    "    \n",
    "from copy import deepcopy\n",
    "    \n",
    "def boxing(thres_matrix):\n",
    "    lm=deepcopy(thres_matrix);\n",
    "\n",
    "    def search(x,y):\n",
    "        lefttop_x=x-1\n",
    "        lefttop_y=y-1\n",
    "        rightbot_x=x+1\n",
    "        rightbot_y=y+1\n",
    "        if(lm[x,y]==0):\n",
    "            return [lefttop_x,lefttop_y,rightbot_x,rightbot_y]\n",
    "        else:\n",
    "            lm[x,y]=0\n",
    "        for i in [x-2,x-1,x,x+1,x+2]:\n",
    "            for j in [y-2,y-1,y,y+1,y+2]:\n",
    "                if((i>=lm.shape[0]) or (j>=lm.shape[1])):\n",
    "                    continue\n",
    "                elif(lm[i,j]==1):\n",
    "                    [a,b,c,d]=search(i,j)\n",
    "                    #print([a,b,c,d])\n",
    "                    lm[i,j]=0\n",
    "                    lefttop_x=min([lefttop_x,a])\n",
    "                    lefttop_y=min([lefttop_y,b])\n",
    "                    rightbot_x=max([rightbot_x,c])\n",
    "                    rightbot_y=max([rightbot_y,d])\n",
    "                    #print('a',[lefttop_x,lefttop_y,rightbot_x,rightbot_y])\n",
    "       \n",
    "        return [lefttop_x,lefttop_y,rightbot_x,rightbot_y]\n",
    "    #[lx,ly,rx,ry]=search(17,20,lm)\n",
    "    #thres_matrix[lx,ly]=2\n",
    "    #thres_matrix[rx,ry]=2\n",
    "    #plt.imshow(thres_matrix)\n",
    "    \n",
    "    \n",
    "    tag_list=[]\n",
    "    \n",
    "    flag=0\n",
    "\n",
    "    while(True):\n",
    "        for i in range(thres_matrix.shape[0]):\n",
    "            for j in range(thres_matrix.shape[1]):\n",
    "                if(lm[i,j]==1):\n",
    "                    flag=1\n",
    "                    [lx,ly,rx,ry]=search(i,j)\n",
    "                    thres_matrix[lx,ly]=2\n",
    "                    thres_matrix[rx,ry]=2\n",
    "                    t=tag(lx,ly,rx,ry)\n",
    "                    tag_list.append(t)\n",
    "                    break\n",
    "            if(flag==1):\n",
    "                break\n",
    "        if(flag==0):\n",
    "            break\n",
    "        flag=0\n",
    "    return tag_list\n",
    "\n"
   ]
  },
  {
   "cell_type": "code",
   "execution_count": 160,
   "metadata": {},
   "outputs": [
    {
     "data": {
      "text/plain": [
       "<matplotlib.image.AxesImage at 0x9a4c90>"
      ]
     },
     "execution_count": 160,
     "metadata": {},
     "output_type": "execute_result"
    },
    {
     "data": {
      "image/png": "[encoded data removed]",
      "text/plain": [
       "<Figure size 432x288 with 1 Axes>"
      ]
     },
     "metadata": {
      "needs_background": "light"
     },
     "output_type": "display_data"
    }
   ],
   "source": [
    "l2=thresholding(test_dat_2,30)\n",
    "l1=thresholding(test_dat,30)\n",
    "\n",
    "l2l=thresholding(test_dat_2,60)\n",
    "\n",
    "tag_list=boxing(deepcopy(l2))\n",
    "\n",
    "plt.imshow(l2)"
   ]
  },
  {
   "cell_type": "code",
   "execution_count": 214,
   "metadata": {},
   "outputs": [],
   "source": [
    "import random\n",
    "\n",
    "smin=0.25\n",
    "smax=0.5\n",
    "\n",
    "Amin=50\n",
    "Amax=250\n",
    "\n",
    "tmin=0\n",
    "tmax=np.pi\n",
    "\n",
    "def error(spe__array,dat_tag,input_dat=test_dat):\n",
    "    matrix=input_dat[(dat_tag.param()[0]):(dat_tag.param()[2]+1),(dat_tag.param()[1]):(dat_tag.param()[3]+1)]\n",
    "    #print(matrix)\n",
    "    height=matrix.shape[0]\n",
    "    width=matrix.shape[1]\n",
    "    tot_intensity_matrix=np.zeros((height,width))\n",
    "    err=0\n",
    "    for i in range(height):\n",
    "        for j in range(width):\n",
    "            for event in spe__array:\n",
    "                #print(event.intensity_matrix.shape)\n",
    "                tot_intensity_matrix[i,j]=tot_intensity_matrix[i,j]+event.intensity_matrix[dat_tag.param()[0]+i,dat_tag.param()[1]+j]\n",
    "            err=err+(matrix[i,j]-tot_intensity_matrix[i,j])**2\n",
    "        \n",
    "    return err\n",
    "\n",
    "sample_length=40\n",
    "\n",
    "def gradient_descent_single(input_dat,dat_tag):\n",
    "    l=dat_tag.param()[0]\n",
    "    r=dat_tag.param()[2]+1\n",
    "    t=dat_tag.param()[1]\n",
    "    b=dat_tag.param()[3]+1\n",
    "    dat=input_dat[l:r,t:b]\n",
    "    #return dat\n",
    "    #print(dat)\n",
    "    index=np.unravel_index(dat.argmax(),dat.shape)\n",
    "    \n",
    "    #return index\n",
    "    \n",
    "    x=l+index[0]+0.5\n",
    "    y=t+index[1]+0.5\n",
    "    print(dat)\n",
    "    #s_x=random.uniform(smin,smax)\n",
    "    #s_y=random.uniform(smin,smax)\n",
    "    #A=random.uniform(Amin,Amax)\n",
    "    \n",
    "    s_x=0.4\n",
    "    s_y=0.4\n",
    "    #A=dat.max()\n",
    "    A=23\n",
    "    \n",
    "    spe=gaussian_spe(y,x,s_x,s_y,A)\n",
    "    print([x,y,s_x,s_y,A])\n",
    "    #print(l,r,t,b)\n",
    "    print(spe.intensity_matrix[l:r,t:b].astype(int))\n",
    "    \n",
    "    \n",
    "    err=error([spe],dat_tag,test_dat_2)\n",
    "    print(err)\n",
    "    \n",
    "    step_xy=0.02\n",
    "    step_s=0.01\n",
    "    step_A=1\n",
    "    descent_factor=0.05\n",
    "    \n",
    "    err_array=[]\n",
    "    \n",
    "    print([x,y,s_x,s_y,A])\n",
    "    for i in range(50):\n",
    "        err=error([spe],dat_tag,test_dat_2)\n",
    "        p_x=error([gaussian_spe(y,x+step_xy,s_x,s_y,A)],dat_tag,test_dat_2)-err\n",
    "        p_y=error([gaussian_spe(y+step_xy,x,s_x,s_y,A)],dat_tag,test_dat_2)-err\n",
    "        p_sx=error([gaussian_spe(y,x,s_x+step_s,s_y,A)],dat_tag,test_dat_2)-err\n",
    "        p_sy=error([gaussian_spe(y,x,s_x,s_y+step_s,A)],dat_tag,test_dat_2)-err\n",
    "        p_A=error([gaussian_spe(y,x,s_x,s_y,A+step_A)],dat_tag,test_dat_2)-err\n",
    "        x=x-p_x*descent_factor*step_xy\n",
    "        y=y-p_y*descent_factor*step_xy\n",
    "        s_x=s_x-p_sx*descent_factor*step_s\n",
    "        s_y=s_y-p_sy*descent_factor*step_s\n",
    "        A=A-p_A*descent_factor*step_A\n",
    "        spe=gaussian_spe(y,x,s_x,s_y,A)\n",
    "        err_array.append(err)\n",
    "        print([x,y,s_x,s_y,A])\n",
    "    print(spe.intensity_matrix[l:r,t:b].astype(int))\n",
    "    \n",
    "    plt.plot(err_array)\n",
    "    "
   ]
  },
  {
   "cell_type": "code",
   "execution_count": 220,
   "metadata": {},
   "outputs": [
    {
     "name": "stdout",
     "output_type": "stream",
     "text": [
      "[[ 4  5 -3]\n",
      " [-3 40 15]\n",
      " [ 5 26  7]]\n",
      "[17.5, 9.5, 0.4, 0.4, 23]\n",
      "[[ 1 12  1]\n",
      " [12 89  9]\n",
      " [ 1  9  0]]\n",
      "3147.206684422171\n",
      "[17.5, 9.5, 0.4, 0.4, 23]\n",
      "[17.5598968039749, 9.545999913330114, 0.4734855781718966, 0.45714978668068107, 2.4826273309381577]\n",
      "[17.563919394552784, 9.547984459997787, 0.4715540120377724, 0.4536376744116689, 14.78581821505071]\n",
      "[17.59731189050368, 9.56848952035484, 0.48223857665474773, 0.4559928962083616, 12.576653505298925]\n",
      "[17.62227342524533, 9.582175650499032, 0.4866012365490313, 0.4536409226295351, 13.571092519781898]\n",
      "[17.6482395065802, 9.594062627879675, 0.4918190823975692, 0.45125933587969475, 13.735691112259572]\n",
      "[17.672711277574216, 9.606950706441618, 0.4964194927252898, 0.44986668713327943, 14.029235386656968]\n",
      "[17.69567019655549, 9.618918310536653, 0.5005535751638025, 0.44854557666979716, 14.309520664453395]\n",
      "[17.712791659711606, 9.627980743378847, 0.5021753014960901, 0.44630475367331757, 14.548195484488287]\n",
      "[17.732399582567307, 9.638091519094331, 0.5054919698152457, 0.4451184664437921, 14.696656300073794]\n",
      "[17.749556430220853, 9.647135061897288, 0.5081816637101547, 0.44385254529870605, 14.903447697803418]\n",
      "[17.76445205936842, 9.655366322476992, 0.5104075880051938, 0.44264276572974626, 15.065629161785495]\n",
      "[17.77711693082639, 9.6613403899004, 0.5122026094861345, 0.4407343407216706, 15.183087984550406]\n",
      "[17.787669359132597, 9.666818214965625, 0.5136258026344716, 0.43892917332352166, 15.261581449917902]\n",
      "[17.796705585055825, 9.672670382904517, 0.514797713228252, 0.4377157102962634, 15.340695475111803]\n",
      "[17.80393687378333, 9.677889015166766, 0.515675492690323, 0.4365178024309037, 15.393335602190582]\n",
      "[17.8100184559471, 9.682491046387598, 0.516374158120062, 0.4352892058592499, 15.452796758125888]\n",
      "[17.815126765269074, 9.686584622231091, 0.5169385827067127, 0.43405969465943767, 15.499706946462055]\n",
      "[17.818272125183864, 9.690256054687842, 0.5168276739755343, 0.43286762842522086, 15.50783178763158]\n",
      "[17.821564748124793, 9.69348523320591, 0.5171365300213792, 0.43164798375124624, 15.525222091714431]\n",
      "[17.82428255478147, 9.696332455477812, 0.5173655759132844, 0.43041610956424325, 15.544552413479261]\n",
      "[17.826525252054545, 9.698863414108182, 0.5175345895627406, 0.4291862803942627, 15.557920597742868]\n",
      "[17.828370399283116, 9.701115519819334, 0.517653707228615, 0.42795983779176766, 15.566593363063529]\n",
      "[17.82988444507986, 9.703123412366876, 0.5177316291781903, 0.42673864979643755, 15.571308655097198]\n",
      "[17.831123618572622, 9.704918004209992, 0.5177755637956869, 0.425524464137994, 15.572712089221113]\n",
      "[17.83213523679963, 9.70652674511552, 0.51779148228468, 0.42431889212979657, 15.571354126736217]\n",
      "[17.832958928342357, 9.70797387631096, 0.5177843241321228, 0.4231233848802702, 15.567703743983575]\n",
      "[17.83362775324372, 9.70928070520846, 0.5177581713958012, 0.4219392232693, 15.562159817856106]\n",
      "[17.83416920250509, 9.710465884430509, 0.5177163951145562, 0.4207675169898271, 15.555061076644826]\n",
      "[17.834606074256392, 9.711545685057443, 0.5176617777079534, 0.41960920982251154, 15.546694726523372]\n",
      "[17.834957231539473, 9.71253425722069, 0.5175966149327879, 0.41846508895102413, 15.537303904166421]\n",
      "[17.835238250962327, 9.713443873725337, 0.5175228005832716, 0.4173357966875534, 15.527094099386305]\n",
      "[17.835461973477443, 9.714285154313403, 0.5174418967132659, 0.41622184342415497, 15.516238679895984]\n",
      "[17.835638969074253, 9.71506726958864, 0.5173551917648008, 0.41512362097204203, 15.504883636462306]\n",
      "[17.835777926839146, 9.715798124619019, 0.517263748627028, 0.41404141571455494, 15.493151652933433]\n",
      "[17.835885981016226, 9.716264384233648, 0.5171684443312162, 0.41272315634796464, 15.481145592791094]\n",
      "[17.835972111759908, 9.71674884892066, 0.517074361274947, 0.4114388061156185, 15.463209564828418]\n",
      "[17.8360367518795, 9.717229574285383, 0.5169773610075299, 0.4101776986012387, 15.445934655467264]\n",
      "[17.836089852565575, 9.718417524765384, 0.5168741140440984, 0.4092945137653915, 15.448648722102982]\n",
      "[17.83612940753568, 9.719506497346947, 0.5167730462739212, 0.4084219424728951, 15.443259919509714]\n",
      "[17.836154564181577, 9.720489794107502, 0.5166695162559694, 0.4075517238711011, 15.437305319126956]\n",
      "[17.83616882610842, 9.721382846675484, 0.5165643231756745, 0.40668598381166443, 15.430504814945394]\n",
      "[17.836174735204043, 9.722197771059598, 0.5164578381569308, 0.40582596433878265, 15.423032879573555]\n",
      "[17.83617433014805, 9.722945158615463, 0.5163503813895787, 0.4049727412732616, 15.415014184443205]\n",
      "[17.836169226296587, 9.723634168795181, 0.5162422129367766, 0.4041272057897659, 15.406557554553265]\n",
      "[17.83616069918739, 9.724272710465163, 0.51613354504924, 0.40329008974436137, 15.39775612736751]\n",
      "[17.836149751310952, 9.72486759938952, 0.5160245509799348, 0.40246198603846084, 15.388689444150499]\n",
      "[17.836137166387687, 9.725424699534877, 0.5159153722671076, 0.40164336711176946, 15.37942520368816]\n",
      "[17.836123553327894, 9.725949048594487, 0.5158061246723195, 0.4008346014372681, 15.370020833294605]\n",
      "[17.83610938176414, 9.726444968862467, 0.5156969030211325, 0.4000359681456954, 15.360524878958097]\n",
      "[17.836095010709894, 9.726916164677078, 0.5155877851445625, 0.39924766991685984, 15.35097822906641]\n",
      "[[ 0  3  1]\n",
      " [ 1 39 12]\n",
      " [ 1 24  7]]\n"
     ]
    },
    {
     "data": {
      "image/png": "[encoded data removed]",
      "text/plain": [
       "<Figure size 432x288 with 1 Axes>"
      ]
     },
     "metadata": {
      "needs_background": "light"
     },
     "output_type": "display_data"
    }
   ],
   "source": [
    "gradient_descent_single(test_dat_2,tag_list[8])"
   ]
  },
  {
   "cell_type": "raw",
   "metadata": {},
   "source": [
    "tag_list"
   ]
  }
 ],
 "metadata": {
  "kernelspec": {
   "display_name": "Python 3",
   "language": "python",
   "name": "python3"
  },
  "language_info": {
   "codemirror_mode": {
    "name": "ipython",
    "version": 3
   },
   "file_extension": ".py",
   "mimetype": "text/x-python",
   "name": "python",
   "nbconvert_exporter": "python",
   "pygments_lexer": "ipython3",
   "version": "3.6.5"
  }
 },
 "nbformat": 4,
 "nbformat_minor": 4
}
