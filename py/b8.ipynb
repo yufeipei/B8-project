{
 "cells": [
  {
   "cell_type": "code",
   "execution_count": 2,
   "metadata": {},
   "outputs": [
    {
     "name": "stdout",
     "output_type": "stream",
     "text": [
      "loaded 20 images\n"
     ]
    },
    {
     "data": {
      "image/png": "[encoded data removed]",
      "text/plain": [
       "<Figure size 432x288 with 1 Axes>"
      ]
     },
     "metadata": {
      "needs_background": "light"
     },
     "output_type": "display_data"
    }
   ],
   "source": [
    "import numpy as np\n",
    "import matplotlib.pyplot as plt\n",
    "import h5py\n",
    "import itertools\n",
    "from PIL import Image\n",
    "from scipy.stats import logistic\n",
    "\n",
    "\n",
    "# Name of the hdf file that contain the data we need\n",
    "f_name = 'sxro6416-r0504.h5'\n",
    "\n",
    "# Open the hdf5 file, use the path to the images to extrate the data and place\n",
    "# it in the image data object for further manipulation and inspection.\n",
    "datafile = h5py.File(f_name, 'r')\n",
    "image_data = []\n",
    "for i in itertools.count(start=0):\n",
    "    d = datafile.get(f'Configure:0000/Run:0000/CalibCycle:{i:04d}/Princeton::FrameV2/SxrEndstation.0:Princeton.0/data')\n",
    "    if d is not None:\n",
    "        # actual image is at first index\n",
    "        image_data.append(d[0])\n",
    "    else:\n",
    "        break\n",
    "\n",
    "#print(image_data[1])\n",
    "# Tell me how many images were contained in the datafile\n",
    "print(f\"loaded {len(image_data)} images\")\n",
    "\n",
    "\n",
    "#for i in range(20):\n",
    "    #plt.imshow(image_data[i])\n",
    "    #plt.savefig('image'+str(i)+'.png',dpi=1000)\n",
    "    #image = Image.fromarray(image_data[i]).convert(\"L\")\n",
    "    #image.save(\"image\"+str(i)+\".png\")\n",
    "\n",
    "# Plot a good dataset - here index 8 (but there are others too!)\n",
    "#misc.imshow(image_data[0])\n",
    "#misc.show()\n",
    "\n",
    "#image = Image.fromarray(image_data[0]).convert(\"L\")\n",
    "#image.save(\"out.png\")\n",
    "\n",
    "# The histogram of the data will help show possible single photon hits\n",
    "plt.hist(image_data[1].flatten(), bins=100)\n",
    "plt.yscale('log')\n"
   ]
  },
  {
   "cell_type": "code",
   "execution_count": 21,
   "metadata": {},
   "outputs": [
    {
     "data": {
      "text/plain": [
       "(2048, 2048)"
      ]
     },
     "execution_count": 21,
     "metadata": {},
     "output_type": "execute_result"
    }
   ],
   "source": [
    "dat=image_data[1]\n",
    "dat.shape"
   ]
  },
  {
   "cell_type": "code",
   "execution_count": 11,
   "metadata": {},
   "outputs": [],
   "source": [
    "import csv"
   ]
  },
  {
   "cell_type": "code",
   "execution_count": 15,
   "metadata": {},
   "outputs": [],
   "source": [
    "#with open('dat.csv', 'w', newline='') as f:\n",
    "  #writer = csv.writer(f)\n",
    "  #writer.writerows(dat)"
   ]
  },
  {
   "cell_type": "code",
   "execution_count": 28,
   "metadata": {},
   "outputs": [],
   "source": [
    "#calculate the mode of the data, which is to be subtracted from the dataset so as to make the Gaussian noise have a mean of 0.\n",
    "import statistics\n",
    "dat_mode=statistics.mode(dat.flatten())\n",
    "\n",
    "dat2=dat.astype(int)-dat_mode"
   ]
  },
  {
   "cell_type": "code",
   "execution_count": 66,
   "metadata": {},
   "outputs": [
    {
     "data": {
      "text/plain": [
       "50"
      ]
     },
     "execution_count": 66,
     "metadata": {},
     "output_type": "execute_result"
    }
   ],
   "source": [
    "dat_mode"
   ]
  },
  {
   "cell_type": "code",
   "execution_count": 58,
   "metadata": {},
   "outputs": [],
   "source": [
    "#Define the distribution function of single photon events.\n",
    "\n",
    "#Here, such distribution is modeled as Gaussian. Later this will be justified/replaced with more justified forms based on literatures\n",
    "#and/or physical simulations\n",
    "\n",
    "def dist_f_gaussian(x,y,x0,y0,s1,s2,A,t,cutoff=2):\n",
    "    x1=(x-x0)*np.cos(t)-(y-y0)*np.sin(t)\n",
    "    y1=(x-x0)*np.sin(t)+(y-y0)*np.cos(t)\n",
    "    print(x1,y1)\n",
    "    if(x1>=cutoff*s1 or y1>=cutoff*s2):\n",
    "        return 0\n",
    "    else:\n",
    "        return A*np.exp(-x1**2/(2*s1**2)-y1**2/(2*s2**2))\n",
    "\n",
    "#With respect to this distribution, we create a class of single photon events(CPE):\n",
    "\n",
    "class "
   ]
  },
  {
   "cell_type": "code",
   "execution_count": 65,
   "metadata": {},
   "outputs": [
    {
     "name": "stdout",
     "output_type": "stream",
     "text": [
      "3.0 0.0\n"
     ]
    },
    {
     "data": {
      "text/plain": [
       "0"
      ]
     },
     "execution_count": 65,
     "metadata": {},
     "output_type": "execute_result"
    }
   ],
   "source": [
    "#Define the loss function. "
   ]
  },
  {
   "cell_type": "code",
   "execution_count": null,
   "metadata": {},
   "outputs": [],
   "source": []
  }
 ],
 "metadata": {
  "kernelspec": {
   "display_name": "Python 3",
   "language": "python",
   "name": "python3"
  },
  "language_info": {
   "codemirror_mode": {
    "name": "ipython",
    "version": 3
   },
   "file_extension": ".py",
   "mimetype": "text/x-python",
   "name": "python",
   "nbconvert_exporter": "python",
   "pygments_lexer": "ipython3",
   "version": "3.6.5"
  }
 },
 "nbformat": 4,
 "nbformat_minor": 4
}
