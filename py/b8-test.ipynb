{
 "cells": [
  {
   "cell_type": "code",
   "execution_count": 1,
   "metadata": {},
   "outputs": [
    {
     "name": "stdout",
     "output_type": "stream",
     "text": [
      "loaded 20 images\n"
     ]
    }
   ],
   "source": [
    "import numpy as np\n",
    "import matplotlib.pyplot as plt\n",
    "import h5py\n",
    "import itertools\n",
    "from PIL import Image\n",
    "from scipy.stats import logistic\n",
    "\n",
    "\n",
    "# Name of the hdf file that contain the data we need\n",
    "f_name = 'sxro6416-r0504.h5'\n",
    "\n",
    "# Open the hdf5 file, use the path to the images to extrate the data and place\n",
    "# it in the image data object for further manipulation and inspection.\n",
    "datafile = h5py.File(f_name, 'r')\n",
    "image_data = []\n",
    "for i in itertools.count(start=0):\n",
    "    d = datafile.get(f'Configure:0000/Run:0000/CalibCycle:{i:04d}/Princeton::FrameV2/SxrEndstation.0:Princeton.0/data')\n",
    "    if d is not None:\n",
    "        # actual image is at first index\n",
    "        image_data.append(d[0])\n",
    "    else:\n",
    "        break\n",
    "\n",
    "#print(image_data[1])\n",
    "# Tell me how many images were contained in the datafile\n",
    "print(f\"loaded {len(image_data)} images\")\n",
    "\n",
    "\n",
    "#for i in range(20):\n",
    "    #plt.imshow(image_data[i])\n",
    "    #plt.savefig('image'+str(i)+'.png',dpi=1000)\n",
    "    #image = Image.fromarray(image_data[i]).convert(\"L\")\n",
    "    #image.save(\"image\"+str(i)+\".png\")\n",
    "\n",
    "# Plot a good dataset - here index 8 (but there are others too!)\n",
    "#misc.imshow(image_data[0])\n",
    "#misc.show()\n",
    "\n",
    "#image = Image.fromarray(image_data[0]).convert(\"L\")\n",
    "#image.save(\"out.png\")\n",
    "\n",
    "# The histogram of the data will help show possible single photon hits\n",
    "plt.hist(image_data[1].flatten(), bins=100)\n",
    "plt.yscale('log')\n"
   ]
  },
  {
   "cell_type": "code",
   "execution_count": 2,
   "metadata": {},
   "outputs": [
    {
     "data": {
      "text/plain": [
       "(2048, 2048)"
      ]
     },
     "execution_count": 2,
     "metadata": {},
     "output_type": "execute_result"
    }
   ],
   "source": [
    "dat=image_data[1]\n",
    "dat.shape"
   ]
  },
  {
   "cell_type": "code",
   "execution_count": 3,
   "metadata": {},
   "outputs": [
    {
     "name": "stdout",
     "output_type": "stream",
     "text": [
      "20 42\n"
     ]
    }
   ],
   "source": [
    "#This is a test program. All codes will be run on this test data, extracted from image #1.\n",
    "test_dat=dat[242:262,1246:1288].astype(int)-50\n",
    "test_dat_2=dat[492:525,1308:1340].astype(int)-50\n",
    "test_height_2=test_dat_2.shape[0]\n",
    "test_width_2=test_dat_2.shape[1]\n",
    "test_height=test_dat.shape[0]\n",
    "test_width=test_dat.shape[1]\n",
    "print(test_height,test_width)\n",
    "th=test_height_2\n",
    "tw=test_width_2"
   ]
  },
  {
   "cell_type": "code",
   "execution_count": 4,
   "metadata": {
    "scrolled": true
   },
   "outputs": [
    {
     "data": {
      "text/plain": [
       "<matplotlib.image.AxesImage at 0x1ac6ed70>"
      ]
     },
     "execution_count": 4,
     "metadata": {},
     "output_type": "execute_result"
    },
    {
     "data": {
      "image/png": "[encoded data removed]",
      "text/plain": [
       "<Figure size 432x288 with 1 Axes>"
      ]
     },
     "metadata": {
      "needs_background": "light"
     },
     "output_type": "display_data"
    }
   ],
   "source": [
    "plt.imshow(test_dat_2)\n",
    "#test_dat"
   ]
  },
  {
   "cell_type": "code",
   "execution_count": 5,
   "metadata": {},
   "outputs": [],
   "source": [
    "### Define the distribution function of single photon events.\n",
    "\n",
    "#Here, such distribution is modeled as Gaussian. Later this will be justified/replaced with more justified forms based on\n",
    "#literatures and/or physical simulations\n",
    "\n",
    "def dist_f_gaussian(x,y,x0,y0,s1,s2,A,t,cutoff=2):\n",
    "    x1=(x-x0)*np.cos(t)-(y-y0)*np.sin(t)\n",
    "    y1=(x-x0)*np.sin(t)+(y-y0)*np.cos(t)\n",
    "    #print(x1,y1,x0,y0,s1,s2,A,t,cutoff)\n",
    "    if(x1>=cutoff*s1 or y1>=cutoff*s2):\n",
    "        return 0\n",
    "    else:\n",
    "        return A/s1/s2*np.exp(-x1**2/(2*s1**2)-y1**2/(2*s2**2))\n",
    "\n",
    "#With respect to this distribution, we create a class of single photon events(SPE):\n",
    "from scipy.integrate import simps\n",
    "import math\n",
    "\n",
    "class gaussian_spe:\n",
    "    'A distribution of intensity caused by a single photon event'\n",
    "    \n",
    "    intensity_matrix=np.zeros((th,tw))\n",
    "    \n",
    "    dist_fn='gaussian'\n",
    "    \n",
    "    def __init__(self, y0, x0, s1, s2, A, t=0, cutoff=2):\n",
    "        self.x0 = x0\n",
    "        self.y0 = y0\n",
    "        self.s1 = s1\n",
    "        self.s2 = s2\n",
    "        self.A = A\n",
    "        self.t = t\n",
    "        self.cutoff = cutoff\n",
    "        test_height=th\n",
    "        test_width=tw\n",
    "        self.intensity_matrix=np.zeros((test_height,test_width))\n",
    "        s=max([s1,s2])+0.5\n",
    "        for i in range(test_height):\n",
    "            for j in range(test_width):\n",
    "                \n",
    "                if(not((i<x0+cutoff*s and i>x0-cutoff*s) and (j<y0+cutoff*s and j>y0-cutoff*s))):\n",
    "                    continue\n",
    "                \"\"\"\n",
    "                #The simpson rule method\n",
    "                \n",
    "                x=np.linspace(i,i+1,sample_length)\n",
    "                y=np.linspace(j,j+1,sample_length)\n",
    "                #zz = self.dist(x.reshape(-1,1),y.reshape(1,-1))\n",
    "                zz=np.zeros((sample_length,sample_length))\n",
    "                for xi in range(sample_length):\n",
    "                    for yi in range(sample_length):\n",
    "                        zz[xi,yi]=self.dist(x[xi],y[yi])\n",
    "                dist=lambda x,y: self.dist(x,y)\n",
    "                #self.intensity_matrix[i,j]=integrate.dblquad(dist,i,i+1,lambda x:j,lambda x:j+1,epsabs=1e-4, epsrel=1e-4)[0]\n",
    "                self.intensity_matrix[i,j]=simps([simps(zz_x,x) for zz_x in zz],y) \n",
    "                \"\"\"\n",
    "                \n",
    "                #The MUCH SIMPLER erf method\n",
    "                \n",
    "                self.intensity_matrix[i,j]=1/2*np.pi*self.A*(math.erf((-self.x0+i)/math.sqrt(2)/s1)-math.erf((-self.x0+i+1)/math.sqrt(2)/s1))*(math.erf((-self.y0+j)/math.sqrt(2)/s2)-math.erf((-self.y0+j+1)/math.sqrt(2)/s2))\n",
    "                \n",
    "    \n",
    "    def dist(self,x,y):\n",
    "        return dist_f_gaussian(x,y,self.x0,self.y0,self.s1,self.s2,self.A,self.t,self.cutoff)\n",
    "    \n",
    "    def new_value(self, y0, x0, s1, s2, A, t=0, cutoff=2):\n",
    "        self.x0 = x0\n",
    "        self.y0 = y0\n",
    "        self.s1 = s1\n",
    "        self.s2 = s2\n",
    "        self.A = A\n",
    "        self.t = t\n",
    "        self.cutoff = cutoff\n",
    "        s=max([s1,s2])+1.5\n",
    "        for i in range(test_height):\n",
    "            for j in range(test_width):\n",
    "                if(not((i<x0+cutoff*s and i>x0-cutoff*s) and (j<y0+cutoff*s and j>y0-cutoff*s))):\n",
    "                    continue\n",
    "                x=np.linspace(i,i+1,sample_length)\n",
    "                y=np.linspace(j,j+1,sample_length)\n",
    "                #zz = self.dist(x.reshape(-1,1),y.reshape(1,-1))\n",
    "                zz=np.zeros((sample_length,sample_length))\n",
    "                for xi in range(sample_length):\n",
    "                    for yi in range(sample_length):\n",
    "                        zz[xi,yi]=self.dist(x[xi],y[yi])\n",
    "                dist=lambda x,y: self.dist(x,y)\n",
    "                #self.intensity_matrix[i,j]=integrate.dblquad(dist,i,i+1,lambda x:j,lambda x:j+1,epsabs=1e-4, epsrel=1e-4)[0]\n",
    "                self.intensity_matrix[i,j]=simps([simps(zz_x,x) for zz_x in zz],y) \n",
    "    \n",
    "    def copy(self):\n",
    "        return self\n",
    "                \n",
    "from scipy import integrate\n",
    "import time\n",
    "\n",
    "# The error function. It is defined as ...; the minimisation of which is the ultimate goal of this part of the code. \n",
    "def error(spe__array,dat_tag,input_dat=test_dat):\n",
    "    matrix=input_dat[(dat_tag.param()[0]):(dat_tag.param()[2]+1),(dat_tag.param()[1]):(dat_tag.param()[3]+1)]\n",
    "    #print(matrix)\n",
    "    height=matrix.shape[0]\n",
    "    width=matrix.shape[1]\n",
    "    tot_intensity_matrix=np.zeros((height,width))\n",
    "    err=0\n",
    "    for i in range(height):\n",
    "        for j in range(width):\n",
    "            for event in spe__array:\n",
    "                tot_intensity_matrix[i,j]=tot_intensity_matrix[i,j]+event.intensity_matrix[dat_tag.param()[0]+i,dat_tag.param()[1]+j]\n",
    "            err=err+(matrix[i,j]-tot_intensity_matrix[i,j])**2\n",
    "        \n",
    "    return err\n",
    "\n",
    "def error(spe__array, input_dat=test_dat):\n",
    "    matrix=input_dat\n",
    "    #print(matrix)\n",
    "    height=matrix.shape[0]\n",
    "    width=matrix.shape[1]\n",
    "    tot_intensity_matrix=np.zeros((height,width))\n",
    "    err=0\n",
    "    for i in range(height):\n",
    "        for j in range(width):\n",
    "            for event in spe__array:\n",
    "                tot_intensity_matrix[i,j]=tot_intensity_matrix[i,j]+event.intensity_matrix[i,j]\n",
    "            err=err+(matrix[i,j]-tot_intensity_matrix[i,j])**2\n",
    "        \n",
    "    return err"
   ]
  },
  {
   "cell_type": "code",
   "execution_count": 6,
   "metadata": {},
   "outputs": [
    {
     "data": {
      "text/plain": [
       "<matplotlib.image.AxesImage at 0x1ac10790>"
      ]
     },
     "execution_count": 6,
     "metadata": {},
     "output_type": "execute_result"
    },
    {
     "data": {
      "image/png": "[encoded data removed]",
      "text/plain": [
       "<Figure size 432x288 with 1 Axes>"
      ]
     },
     "metadata": {
      "needs_background": "light"
     },
     "output_type": "display_data"
    }
   ],
   "source": [
    "plt.imshow(test_dat)"
   ]
  },
  {
   "cell_type": "code",
   "execution_count": 7,
   "metadata": {},
   "outputs": [],
   "source": [
    "class tag:\n",
    "    'used to tag SPEs.'\n",
    "    lx=0\n",
    "    ly=0\n",
    "    rx=0\n",
    "    ry=0\n",
    "    width=0\n",
    "    height=0\n",
    "    \n",
    "    def __init__(self,lx,ly,rx,ry):\n",
    "        self.lx=lx\n",
    "        self.ly=ly\n",
    "        self.rx=rx\n",
    "        self.ry=ry\n",
    "        self.width=rx-lx\n",
    "        self.height=ry-ly\n",
    "    \n",
    "    def param(self):\n",
    "        return [self.lx,self.ly,self.rx,self.ry]\n",
    "    \n",
    "    def hw(self):\n",
    "        return [self.height,self.width]\n",
    "    \n",
    "def thresholding(dataset,threshold):\n",
    "    label_matrix=np.zeros(dataset.shape)\n",
    "    for i in range(dataset.shape[0]):\n",
    "        for j in range(dataset.shape[1]):\n",
    "            if(dataset[i,j]>=threshold):\n",
    "                label_matrix[i,j]=1\n",
    "    return label_matrix\n",
    "    \n",
    "from copy import deepcopy\n",
    "    \n",
    "def boxing(thres_matrix):\n",
    "    lm=deepcopy(thres_matrix);\n",
    "\n",
    "    def search(x,y):\n",
    "        lefttop_x=x-1\n",
    "        lefttop_y=y-1\n",
    "        rightbot_x=x+1\n",
    "        rightbot_y=y+1\n",
    "        if(lm[x,y]==0):\n",
    "            return [lefttop_x,lefttop_y,rightbot_x,rightbot_y]\n",
    "        else:\n",
    "            lm[x,y]=0\n",
    "        for i in [x-2,x-1,x,x+1,x+2]:\n",
    "            for j in [y-2,y-1,y,y+1,y+2]:\n",
    "                if((i>=lm.shape[0]) or (j>=lm.shape[1])):\n",
    "                    continue\n",
    "                elif(lm[i,j]==1):\n",
    "                    [a,b,c,d]=search(i,j)\n",
    "                    #print([a,b,c,d])\n",
    "                    lm[i,j]=0\n",
    "                    lefttop_x=min([lefttop_x,a])\n",
    "                    lefttop_y=min([lefttop_y,b])\n",
    "                    rightbot_x=max([rightbot_x,c])\n",
    "                    rightbot_y=max([rightbot_y,d])\n",
    "                    #print('a',[lefttop_x,lefttop_y,rightbot_x,rightbot_y])\n",
    "       \n",
    "        return [lefttop_x,lefttop_y,rightbot_x,rightbot_y]\n",
    "    #[lx,ly,rx,ry]=search(17,20,lm)\n",
    "    #thres_matrix[lx,ly]=2\n",
    "    #thres_matrix[rx,ry]=2\n",
    "    #plt.imshow(thres_matrix)\n",
    "    \n",
    "    \n",
    "    tag_list=[]\n",
    "    \n",
    "    flag=0\n",
    "\n",
    "    while(True):\n",
    "        for i in range(thres_matrix.shape[0]):\n",
    "            for j in range(thres_matrix.shape[1]):\n",
    "                if(lm[i,j]==1):\n",
    "                    flag=1\n",
    "                    [lx,ly,rx,ry]=search(i,j)\n",
    "                    thres_matrix[lx,ly]=2\n",
    "                    thres_matrix[rx,ry]=2\n",
    "                    t=tag(lx,ly,rx,ry)\n",
    "                    tag_list.append(t)\n",
    "                    break\n",
    "            if(flag==1):\n",
    "                break\n",
    "        if(flag==0):\n",
    "            break\n",
    "        flag=0\n",
    "    return tag_list\n",
    "\n"
   ]
  },
  {
   "cell_type": "code",
   "execution_count": 8,
   "metadata": {},
   "outputs": [
    {
     "data": {
      "text/plain": [
       "<matplotlib.image.AxesImage at 0x1ab16410>"
      ]
     },
     "execution_count": 8,
     "metadata": {},
     "output_type": "execute_result"
    },
    {
     "data": {
      "image/png": "[encoded data removed]",
      "text/plain": [
       "<Figure size 432x288 with 1 Axes>"
      ]
     },
     "metadata": {
      "needs_background": "light"
     },
     "output_type": "display_data"
    }
   ],
   "source": [
    "l2=thresholding(test_dat_2,30)\n",
    "l1=thresholding(test_dat,30)\n",
    "\n",
    "l2l=thresholding(test_dat_2,60)\n",
    "\n",
    "tag_list=boxing(deepcopy(l2))\n",
    "\n",
    "plt.imshow(l2)"
   ]
  },
  {
   "cell_type": "code",
   "execution_count": 29,
   "metadata": {},
   "outputs": [],
   "source": [
    "import random\n",
    "\n",
    "smin=0.2\n",
    "smax=0.5\n",
    "\n",
    "Amin=50\n",
    "Amax=250\n",
    "\n",
    "tmin=0\n",
    "tmax=np.pi\n",
    "\n",
    "def error(spe__array,dat_tag,input_dat=test_dat):\n",
    "    matrix=input_dat[(dat_tag.param()[0]):(dat_tag.param()[2]+1),(dat_tag.param()[1]):(dat_tag.param()[3]+1)]\n",
    "    #print(matrix)\n",
    "    height=matrix.shape[0]\n",
    "    width=matrix.shape[1]\n",
    "    tot_intensity_matrix=np.zeros((height,width))\n",
    "    err=0\n",
    "    for i in range(height):\n",
    "        for j in range(width):\n",
    "            for event in spe__array:\n",
    "                #print(event.intensity_matrix.shape)\n",
    "                tot_intensity_matrix[i,j]=tot_intensity_matrix[i,j]+event.intensity_matrix[dat_tag.param()[0]+i,dat_tag.param()[1]+j]\n",
    "            err=err+(matrix[i,j]-tot_intensity_matrix[i,j])**2\n",
    "        \n",
    "    return err\n",
    "\n",
    "#sample_length=40\n",
    "\n",
    "def gradient_descent_single(input_dat,dat_tag,output='verbose'):\n",
    "    l=dat_tag.param()[0]\n",
    "    r=dat_tag.param()[2]+1\n",
    "    t=dat_tag.param()[1]\n",
    "    b=dat_tag.param()[3]+1\n",
    "    dat=input_dat[l:r,t:b]\n",
    "    #return dat\n",
    "    #print(dat)\n",
    "    [i0,i1]=np.unravel_index(dat.argmax(),dat.shape)\n",
    "    \n",
    "    #return index\n",
    "    xavg=0\n",
    "    yavg=0\n",
    "    for i in range(dat.shape[0]):\n",
    "        for j in range(dat.shape[1]):\n",
    "            xavg=xavg+i*dat[i,j]\n",
    "            yavg=yavg+j*dat[i,j]\n",
    "    \n",
    "    x=l+xavg/sum(dat.flatten())+0.5\n",
    "    y=t+yavg/sum(dat.flatten())+0.5\n",
    "    \n",
    "    #x=l+i0+0.5\n",
    "    #y=t+i1+0.5\n",
    "    \n",
    "    if(output=='verbose'):\n",
    "        print(x,y)    \n",
    "        print(dat)\n",
    "    \n",
    "    #s_x=random.uniform(smin,smax)\n",
    "    #s_y=random.uniform(smin,smax)\n",
    "    #A=random.uniform(Amin,Amax)\n",
    "    \n",
    "    s_x=0.25+0.25*(dat[i0+1,i1]+dat[i0-1,i1])/dat[i0,i1]\n",
    "    s_y=0.25+0.25*(dat[i0,i1+1]+dat[i0,i1-1])/dat[i0,i1]\n",
    "    \n",
    "    #s_x=0.4\n",
    "    #s_y=0.4\n",
    "    #A=dat.max()\n",
    "    A=15\n",
    "    \n",
    "    spe=gaussian_spe(y,x,s_x,s_y,A)\n",
    "    #print([x,y,s_x,s_y,A])\n",
    "    #print(l,r,t,b)\n",
    "    if(output=='verbose'):\n",
    "        print(spe.intensity_matrix[l:r,t:b].astype(int))\n",
    "    \n",
    "    \n",
    "    err=error([spe],dat_tag,input_dat)\n",
    "    #print(err)\n",
    "    \n",
    "    step_xy=0.01\n",
    "    step_s=0.005\n",
    "    step_A=0.3\n",
    "    descent_factor=0.05\n",
    "    \n",
    "    err_array=[]\n",
    "    \n",
    "    #print([x,y,s_x,s_y,A])\n",
    "    \n",
    "    for i in range(100):\n",
    "        err=error([spe],dat_tag,input_dat)\n",
    "        p_x=error([gaussian_spe(y,x+step_xy,s_x,s_y,A)],dat_tag,input_dat)-err\n",
    "        p_y=error([gaussian_spe(y+step_xy,x,s_x,s_y,A)],dat_tag,input_dat)-err\n",
    "        p_sx=error([gaussian_spe(y,x,s_x+step_s,s_y,A)],dat_tag,input_dat)-err\n",
    "        p_sy=error([gaussian_spe(y,x,s_x,s_y+step_s,A)],dat_tag,input_dat)-err\n",
    "        p_A=error([gaussian_spe(y,x,s_x,s_y,A+step_A)],dat_tag,input_dat)-err\n",
    "        x=x-p_x*descent_factor*step_xy\n",
    "        y=y-p_y*descent_factor*step_xy\n",
    "        s_x=s_x-p_sx*descent_factor*step_s\n",
    "        s_y=s_y-p_sy*descent_factor*step_s\n",
    "        A=A-p_A*descent_factor*step_A\n",
    "        spe=gaussian_spe(y,x,s_x,s_y,A)\n",
    "        err_array.append(err)\n",
    "        \n",
    "        if(s_x<smin):\n",
    "            s_x=smin\n",
    "        if(s_y<smin):\n",
    "            s_y=smin\n",
    "        \n",
    "        if(i>=11 and np.abs(err-err_array[i-11])<=err/40):\n",
    "            if(err>len(dat.flatten())*100):\n",
    "                print('suspicious case')\n",
    "            if(output=='verbose'):\n",
    "                print(err,err_array[i-11])\n",
    "            break\n",
    "        \n",
    "        \n",
    "        if(output=='verbose'):\n",
    "            print([x,y,s_x,s_y,A])\n",
    "        #if(err<=200):\n",
    "            #print('target reached')\n",
    "            #break\n",
    "    if(output=='verbose'):\n",
    "        plt.plot(err_array)\n",
    "\n",
    "    print(spe.intensity_matrix[l:r,t:b].astype(int))\n",
    "    print(err)\n",
    "    if(err>2000):\n",
    "        print('suspicious case')\n",
    "\n",
    "th=test_height_2\n",
    "tw=test_width_2"
   ]
  },
  {
   "cell_type": "code",
   "execution_count": 30,
   "metadata": {},
   "outputs": [
    {
     "name": "stdout",
     "output_type": "stream",
     "text": [
      "22.5234375 3.75\n",
      "[[ -6  -8   4]\n",
      " [ -2 144   3]\n",
      " [ -5 -14  12]]\n",
      "[[ 0  0  0]\n",
      " [ 0 77 14]\n",
      " [ 0  0  0]]\n",
      "[22.518076555638277, 3.679100040482353, 0.20355861203465192, 0.23356575921725564, 17.942328443023122]\n",
      "[22.513951317324874, 3.6426283832204294, 0.2, 0.2201830153751338, 20.026100396562217]\n",
      "[22.50567117943543, 3.6193284196591264, 0.2, 0.2095127063879188, 21.209213221651414]\n",
      "[22.49394531895385, 3.6009408578575623, 0.2, 0.2001868858393047, 21.795686608186944]\n",
      "[22.48400075400244, 3.5881546886920384, 0.2, 0.2, 22.149801065004844]\n",
      "[22.472622384672253, 3.575023613536542, 0.2, 0.2, 22.311665372440277]\n",
      "[22.46282023309075, 3.5639470282986276, 0.2, 0.2, 22.44016839363384]\n",
      "[22.455372343679368, 3.5555137504111527, 0.2, 0.2, 22.579591711162124]\n",
      "[22.450045891571133, 3.5494567011759965, 0.2, 0.2, 22.727869911667277]\n",
      "[22.446334176938834, 3.545268838713444, 0.2, 0.2, 22.872540231796602]\n",
      "[22.443732480629937, 3.5424377100769, 0.2, 0.2, 23.00287585887051]\n",
      "[22.44183486034294, 3.5405341778106365, 0.2, 0.2, 23.11297170425106]\n",
      "[22.44035663337826, 3.5392391655376234, 0.2, 0.2, 23.201499375681603]\n",
      "[22.43911887473644, 3.538335428502165, 0.2, 0.2, 23.27021908888104]\n",
      "[22.438018181900986, 3.537683248038526, 0.2, 0.2, 23.322356530984127]\n",
      "[22.43699802371475, 3.537195025829546, 0.2, 0.2, 23.36142206422722]\n",
      "[22.436028365308623, 3.536815868907494, 0.2, 0.2, 23.39057903665163]\n",
      "[22.43509335856149, 3.5365108962873446, 0.2, 0.2, 23.412414712309356]\n",
      "[22.434184559464192, 3.53625751503895, 0.2, 0.2, 23.428930332257064]\n",
      "[22.43329735887068, 3.536040811697697, 0.2, 0.2, 23.441622112066828]\n",
      "[22.432429137891226, 3.535850776910067, 0.2, 0.2, 23.451584848716713]\n",
      "[22.43157831763378, 3.5356805974480534, 0.2, 0.2, 23.459608409357386]\n",
      "497.3808798161841 509.28762326777496\n",
      "[[  0   0   0]\n",
      " [  0 142   1]\n",
      " [  0   0   0]]\n",
      "497.3808798161841\n",
      "0.2303156852722168\n"
     ]
    },
    {
     "data": {
      "image/png": "[encoded data removed]",
      "text/plain": [
       "<Figure size 432x288 with 1 Axes>"
      ]
     },
     "metadata": {
      "needs_background": "light"
     },
     "output_type": "display_data"
    }
   ],
   "source": [
    "start=time.time()\n",
    "\n",
    "gradient_descent_single(test_dat_2,tag_list[12],'verbose')\n",
    "end=time.time()\n",
    "print(end-start)"
   ]
  },
  {
   "cell_type": "code",
   "execution_count": 17,
   "metadata": {},
   "outputs": [
    {
     "data": {
      "text/plain": [
       "[2, 34, 4, 36]"
      ]
     },
     "execution_count": 17,
     "metadata": {},
     "output_type": "execute_result"
    }
   ],
   "source": [
    "th=test_height\n",
    "tw=test_width\n",
    "tag_list_1=boxing(deepcopy(l1))\n",
    "\n",
    "tag_list_1[1].param()"
   ]
  },
  {
   "cell_type": "code",
   "execution_count": 14,
   "metadata": {},
   "outputs": [
    {
     "ename": "NameError",
     "evalue": "name 'tag_list_1' is not defined",
     "output_type": "error",
     "traceback": [
      "\u001b[1;31m---------------------------------------------------------------------------\u001b[0m",
      "\u001b[1;31mNameError\u001b[0m                                 Traceback (most recent call last)",
      "\u001b[1;32m<ipython-input-14-bc1e67a7774f>\u001b[0m in \u001b[0;36m<module>\u001b[1;34m()\u001b[0m\n\u001b[1;32m----> 1\u001b[1;33m \u001b[0mgradient_descent_single\u001b[0m\u001b[1;33m(\u001b[0m\u001b[0mtest_dat\u001b[0m\u001b[1;33m,\u001b[0m\u001b[0mtag_list_1\u001b[0m\u001b[1;33m[\u001b[0m\u001b[1;36m1\u001b[0m\u001b[1;33m]\u001b[0m\u001b[1;33m,\u001b[0m\u001b[1;34m'verbose'\u001b[0m\u001b[1;33m)\u001b[0m\u001b[1;33m\u001b[0m\u001b[0m\n\u001b[0m",
      "\u001b[1;31mNameError\u001b[0m: name 'tag_list_1' is not defined"
     ]
    }
   ],
   "source": [
    "gradient_descent_single(test_dat,tag_list_1[1],'verbose')\n"
   ]
  },
  {
   "cell_type": "code",
   "execution_count": 24,
   "metadata": {
    "scrolled": true
   },
   "outputs": [
    {
     "data": {
      "text/plain": [
       "<matplotlib.image.AxesImage at 0x5a57f0>"
      ]
     },
     "execution_count": 24,
     "metadata": {},
     "output_type": "execute_result"
    },
    {
     "data": {
      "image/png": "[encoded data removed]",
      "text/plain": [
       "<Figure size 432x288 with 1 Axes>"
      ]
     },
     "metadata": {
      "needs_background": "light"
     },
     "output_type": "display_data"
    }
   ],
   "source": [
    "plt.imshow(test_dat_2)"
   ]
  },
  {
   "cell_type": "code",
   "execution_count": null,
   "metadata": {},
   "outputs": [],
   "source": []
  }
 ],
 "metadata": {
  "kernelspec": {
   "display_name": "Python 3",
   "language": "python",
   "name": "python3"
  },
  "language_info": {
   "codemirror_mode": {
    "name": "ipython",
    "version": 3
   },
   "file_extension": ".py",
   "mimetype": "text/x-python",
   "name": "python",
   "nbconvert_exporter": "python",
   "pygments_lexer": "ipython3",
   "version": "3.6.5"
  }
 },
 "nbformat": 4,
 "nbformat_minor": 4
}
