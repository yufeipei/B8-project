{
 "cells": [
  {
   "cell_type": "code",
   "execution_count": 1,
   "metadata": {},
   "outputs": [
    {
     "name": "stdout",
     "output_type": "stream",
     "text": [
      "loaded 20 images\n"
     ]
    }
   ],
   "source": [
    "import numpy as np\n",
    "import matplotlib.pyplot as plt\n",
    "import h5py\n",
    "import itertools\n",
    "from PIL import Image\n",
    "from scipy.stats import logistic\n",
    "\n",
    "\n",
    "# Name of the hdf file that contain the data we need\n",
    "f_name = 'sxro6416-r0504.h5'\n",
    "\n",
    "# Open the hdf5 file, use the path to the images to extrate the data and place\n",
    "# it in the image data object for further manipulation and inspection.\n",
    "datafile = h5py.File(f_name, 'r')\n",
    "image_data = []\n",
    "for i in itertools.count(start=0):\n",
    "    d = datafile.get(f'Configure:0000/Run:0000/CalibCycle:{i:04d}/Princeton::FrameV2/SxrEndstation.0:Princeton.0/data')\n",
    "    if d is not None:\n",
    "        # actual image is at first index\n",
    "        image_data.append(d[0])\n",
    "    else:\n",
    "        break\n",
    "\n",
    "#print(image_data[1])\n",
    "# Tell me how many images were contained in the datafile\n",
    "print(f\"loaded {len(image_data)} images\")\n",
    "\n",
    "\n",
    "#for i in range(20):\n",
    "    #plt.imshow(image_data[i])\n",
    "    #plt.savefig('image'+str(i)+'.png',dpi=1000)\n",
    "    #image = Image.fromarray(image_data[i]).convert(\"L\")\n",
    "    #image.save(\"image\"+str(i)+\".png\")\n",
    "\n",
    "# Plot a good dataset - here index 8 (but there are others too!)\n",
    "#misc.imshow(image_data[0])\n",
    "#misc.show()\n",
    "\n",
    "#image = Image.fromarray(image_data[0]).convert(\"L\")\n",
    "#image.save(\"out.png\")\n",
    "\n",
    "# The histogram of the data will help show possible single photon hits\n",
    "plt.hist(image_data[1].flatten(), bins=100)\n",
    "plt.yscale('log')\n"
   ]
  },
  {
   "cell_type": "code",
   "execution_count": 249,
   "metadata": {},
   "outputs": [],
   "source": [
    "dat=image_data[1]\n",
    "#This is a test program. All codes will be run on this test data, extracted from image #1.\n",
    "test_dat=dat[242:262,1246:1288].astype(int)-50\n",
    "test_dat_2=dat[492:525,1308:1340].astype(int)-50"
   ]
  },
  {
   "cell_type": "code",
   "execution_count": 255,
   "metadata": {},
   "outputs": [],
   "source": [
    "class tag:\n",
    "    'used to tag SPEs.'\n",
    "    lx=0\n",
    "    ly=0\n",
    "    rx=0\n",
    "    ry=0\n",
    "    width=0\n",
    "    height=0\n",
    "    \n",
    "    def __init__(self,lx,ly,rx,ry):\n",
    "        self.lx=lx\n",
    "        self.ly=ly\n",
    "        self.rx=rx\n",
    "        self.ry=ry\n",
    "        self.width=rx-lx\n",
    "        self.height=ry-ly\n",
    "    \n",
    "    def param(self):\n",
    "        return [self.lx,self.ly,self.rx,self.ry]\n",
    "    \n",
    "    def hw(self):\n",
    "        return [self.height,self.width]\n",
    "    \n",
    "def thresholding(dataset,threshold):\n",
    "    label_matrix=np.zeros(dataset.shape)\n",
    "    for i in range(dataset.shape[0]):\n",
    "        for j in range(dataset.shape[1]):\n",
    "            if(dataset[i,j]>=threshold):\n",
    "                label_matrix[i,j]=1\n",
    "    return label_matrix\n",
    "    \n",
    "from copy import deepcopy\n",
    "    \n",
    "def boxing(thres_matrix):\n",
    "    lm=deepcopy(thres_matrix);\n",
    "\n",
    "    def search(x,y):\n",
    "        lefttop_x=x-1\n",
    "        lefttop_y=y-1\n",
    "        rightbot_x=x+1\n",
    "        rightbot_y=y+1\n",
    "        if(lm[x,y]==0):\n",
    "            return [lefttop_x,lefttop_y,rightbot_x,rightbot_y]\n",
    "        else:\n",
    "            lm[x,y]=0\n",
    "        for i in [x-2,x-1,x,x+1,x+2]:\n",
    "            for j in [y-2,y-1,y,y+1,y+2]:\n",
    "                if((i>=lm.shape[0]) or (j>=lm.shape[1])):\n",
    "                    continue\n",
    "                elif(lm[i,j]==1):\n",
    "                    [a,b,c,d]=search(i,j)\n",
    "                    #print([a,b,c,d])\n",
    "                    lm[i,j]=0\n",
    "                    lefttop_x=min([lefttop_x,a])\n",
    "                    lefttop_y=min([lefttop_y,b])\n",
    "                    rightbot_x=max([rightbot_x,c])\n",
    "                    rightbot_y=max([rightbot_y,d])\n",
    "                    #print('a',[lefttop_x,lefttop_y,rightbot_x,rightbot_y])\n",
    "       \n",
    "        return [lefttop_x,lefttop_y,rightbot_x,rightbot_y]\n",
    "    #[lx,ly,rx,ry]=search(17,20,lm)\n",
    "    #thres_matrix[lx,ly]=2\n",
    "    #thres_matrix[rx,ry]=2\n",
    "    #plt.imshow(thres_matrix)\n",
    "    \n",
    "    \n",
    "    tag_list=[]\n",
    "    \n",
    "    flag=0\n",
    "\n",
    "    while(True):\n",
    "        for i in range(thres_matrix.shape[0]):\n",
    "            for j in range(thres_matrix.shape[1]):\n",
    "                if(lm[i,j]==1):\n",
    "                    flag=1\n",
    "                    [lx,ly,rx,ry]=search(i,j)\n",
    "                    thres_matrix[lx,ly]=2\n",
    "                    thres_matrix[rx,ry]=2\n",
    "                    t=tag(lx,ly,rx,ry)\n",
    "                    tag_list.append(t)\n",
    "                    break\n",
    "            if(flag==1):\n",
    "                break\n",
    "        if(flag==0):\n",
    "            break\n",
    "        flag=0\n",
    "    plt.imshow(thres_matrix)\n",
    "    return tag_list\n",
    "\n"
   ]
  },
  {
   "cell_type": "code",
   "execution_count": 257,
   "metadata": {
    "scrolled": false
   },
   "outputs": [
    {
     "name": "stdout",
     "output_type": "stream",
     "text": [
      "[[-3  4  1]\n",
      " [ 1 37 29]\n",
      " [18 41 12]\n",
      " [-4  3  2]]\n"
     ]
    },
    {
     "data": {
      "image/png": "[encoded data removed]",
      "text/plain": [
       "<Figure size 432x288 with 1 Axes>"
      ]
     },
     "metadata": {
      "needs_background": "light"
     },
     "output_type": "display_data"
    }
   ],
   "source": [
    "l2=thresholding(test_dat_2,30)\n",
    "l1=thresholding(test_dat,30)\n",
    "\n",
    "tag_list=boxing(deepcopy(l2))\n",
    "\n",
    "p=(tag_list[0].param())\n",
    "\n",
    "test_test_dat=test_dat_2[p[0]:p[2]+1,p[1]:p[3]+1]\n",
    "print(test_test_dat)"
   ]
  },
  {
   "cell_type": "code",
   "execution_count": 245,
   "metadata": {},
   "outputs": [
    {
     "data": {
      "text/plain": [
       "array([[ 3, 14,  7],\n",
       "       [11, 39, 22],\n",
       "       [12,  7, 10]])"
      ]
     },
     "execution_count": 245,
     "metadata": {},
     "output_type": "execute_result"
    }
   ],
   "source": [
    "test_dat_2[22:25,27:30]"
   ]
  },
  {
   "cell_type": "code",
   "execution_count": 258,
   "metadata": {},
   "outputs": [
    {
     "data": {
      "text/plain": [
       "<matplotlib.image.AxesImage at 0x4940410>"
      ]
     },
     "execution_count": 258,
     "metadata": {},
     "output_type": "execute_result"
    },
    {
     "data": {
      "image/png": "[encoded data removed]",
      "text/plain": [
       "<Figure size 432x288 with 1 Axes>"
      ]
     },
     "metadata": {
      "needs_background": "light"
     },
     "output_type": "display_data"
    }
   ],
   "source": [
    "plt.imshow(test_dat_2)"
   ]
  },
  {
   "cell_type": "code",
   "execution_count": null,
   "metadata": {},
   "outputs": [],
   "source": []
  }
 ],
 "metadata": {
  "kernelspec": {
   "display_name": "Python 3",
   "language": "python",
   "name": "python3"
  },
  "language_info": {
   "codemirror_mode": {
    "name": "ipython",
    "version": 3
   },
   "file_extension": ".py",
   "mimetype": "text/x-python",
   "name": "python",
   "nbconvert_exporter": "python",
   "pygments_lexer": "ipython3",
   "version": "3.6.5"
  }
 },
 "nbformat": 4,
 "nbformat_minor": 4
}
